{
  "nbformat": 4,
  "nbformat_minor": 0,
  "metadata": {
    "colab": {
      "name": "L0_Strings and regex with Python.ipynb",
      "provenance": [],
      "collapsed_sections": [],
      "include_colab_link": true
    },
    "kernelspec": {
      "name": "python3",
      "display_name": "Python 3"
    }
  },
  "cells": [
    {
      "cell_type": "markdown",
      "metadata": {
        "id": "view-in-github",
        "colab_type": "text"
      },
      "source": [
        "<a href=\"https://colab.research.google.com/github/pstorniolo/Master2021/blob/main/L0_Strings_and_regex_with_Python.ipynb\" target=\"_parent\"><img src=\"https://colab.research.google.com/assets/colab-badge.svg\" alt=\"Open In Colab\"/></a>"
      ]
    },
    {
      "cell_type": "markdown",
      "metadata": {
        "id": "DM9rt3WRwtgS"
      },
      "source": [
        "# **Natural Language Processing - Lesson 0**\n",
        "\n",
        "\n",
        "---\n",
        "\n",
        "\n",
        "I can tell you without a shadow of a doubt the NLP is at the top of the still open challenges of Artificial Intelligence.\n",
        "\n",
        "But as geometry teaches us, there is no height without a base.\n",
        "\n",
        "\n",
        "### > Why Colab? \n",
        "Colab (Google Colaboratory) is a free cloud service based on Jupyter Notebooks that supports... FREE GPU!!! \n",
        "\n",
        "Lectures will be held through Colab Notebooks. To download each notebook there are few and really simple steps to do:\n",
        "\n",
        "( *only one thing is required ... having Google Drive or GitHub* )\n",
        "\n",
        "1.   Click on https://bit.ly/2K59ZVD \n",
        "2.   `File` > `Save a copy in Drive` / or `Save a copy on GitHub`\n",
        "3.   (Drive option) Go to your `Drive` and check if the copied version of notebook is present into `Colab Notebooks` folder \n",
        "4.   (Github option) Choose which `repository` to copy the notebook to and than `open it with Colab`\n",
        "\n",
        "## **Lesson 0 - Strings, Python and regular expressions**\n",
        "\n",
        "Whenever we have textual data, we need to apply several pre-processing steps to the data to transform words into numerical features that work with machine learning algorithms and, in general, with a computer.\n",
        "\n",
        "The pre-processing steps for a problem depend mainly on the domain and the problem itself, hence, we don’t need to apply all steps to every problem.\n",
        "\n",
        "### String Basic Manipulation\n",
        "\n",
        "One place where the Python language really shines is in the manipulation of strings. This section will cover some of Python's built-in string methods and formatting operations, before moving on to a quick guide to the extremely useful subject of *regular expressions*.\n",
        "\n",
        "Strings ( `str` ) are one of the most basic data types in Python, used to represent textual data. Like many other programming languages, strings are arrays of bytes representing unicode characters and they are immutable. \n"
      ]
    },
    {
      "cell_type": "code",
      "metadata": {
        "id": "YDqnYrqxtPgb",
        "colab": {
          "base_uri": "https://localhost:8080/"
        },
        "outputId": "62bd18be-882e-4082-ee5c-4d0e5d7611cf"
      },
      "source": [
        "# How to define a string? \n",
        "string_1 = \"Example string #1\"\n",
        "string_2 = 'Exa\\'mple string #2'\n",
        "print(string_1)   \n",
        "print(type(string_1))\n",
        "print(string_2)   \n",
        "print(type(string_2))\n"
      ],
      "execution_count": null,
      "outputs": [
        {
          "output_type": "stream",
          "name": "stdout",
          "text": [
            "Example string #1\n",
            "<class 'str'>\n",
            "Exa'mple string #2\n",
            "<class 'str'>\n"
          ]
        }
      ]
    },
    {
      "cell_type": "markdown",
      "metadata": {
        "id": "NjTBifV4AUIt"
      },
      "source": [
        "Python does not have a `Character` data type so, to access a single character, it is necessary to use the bracket notation, exactly as a `list`. "
      ]
    },
    {
      "cell_type": "code",
      "metadata": {
        "id": "w1Rrt12v_HLF",
        "colab": {
          "base_uri": "https://localhost:8080/"
        },
        "outputId": "7b289c64-ac6b-43f3-d5df-03b25f72d06e"
      },
      "source": [
        "string_3 = \"This is a string.\"\n",
        "print(string_3[0])\n",
        "print(string_3[0:7])"
      ],
      "execution_count": null,
      "outputs": [
        {
          "output_type": "stream",
          "name": "stdout",
          "text": [
            "T\n",
            "This is\n"
          ]
        }
      ]
    },
    {
      "cell_type": "markdown",
      "metadata": {
        "id": "Gspc1gLiDhDl"
      },
      "source": [
        "Exactly as `list`, to get the length of a string use the `len()` function.\n"
      ]
    },
    {
      "cell_type": "code",
      "metadata": {
        "id": "oGByct27DtER",
        "colab": {
          "base_uri": "https://localhost:8080/"
        },
        "outputId": "a328b6c9-0c32-49d1-c7ec-6cf3a1a9900f"
      },
      "source": [
        "len(string_3)"
      ],
      "execution_count": null,
      "outputs": [
        {
          "output_type": "execute_result",
          "data": {
            "text/plain": [
              "17"
            ]
          },
          "metadata": {},
          "execution_count": 3
        }
      ]
    },
    {
      "cell_type": "markdown",
      "metadata": {
        "id": "tF6-NHDSDOTe"
      },
      "source": [
        "The `+` and `*` operators are overridden for the string class, making it possible to add and multiply strings."
      ]
    },
    {
      "cell_type": "code",
      "metadata": {
        "id": "U9VrfRzQDRZW",
        "colab": {
          "base_uri": "https://localhost:8080/",
          "height": 35
        },
        "outputId": "9c968849-61a2-451e-a68a-54d38378a52c"
      },
      "source": [
        "first_name = \"Abraham\"\n",
        "last_name = \" Lincoln\"\n",
        "first_name + last_name"
      ],
      "execution_count": null,
      "outputs": [
        {
          "output_type": "execute_result",
          "data": {
            "application/vnd.google.colaboratory.intrinsic+json": {
              "type": "string"
            },
            "text/plain": [
              "'Abraham Lincoln'"
            ]
          },
          "metadata": {},
          "execution_count": 4
        }
      ]
    },
    {
      "cell_type": "code",
      "metadata": {
        "id": "27BomXZLDV61",
        "colab": {
          "base_uri": "https://localhost:8080/",
          "height": 35
        },
        "outputId": "0c1fa24f-3a11-4db6-d9d5-e599f33d948f"
      },
      "source": [
        "\"a\" * 10"
      ],
      "execution_count": null,
      "outputs": [
        {
          "output_type": "execute_result",
          "data": {
            "application/vnd.google.colaboratory.intrinsic+json": {
              "type": "string"
            },
            "text/plain": [
              "'aaaaaaaaaa'"
            ]
          },
          "metadata": {},
          "execution_count": 5
        }
      ]
    },
    {
      "cell_type": "markdown",
      "metadata": {
        "id": "Z2NTrXxrKK2d"
      },
      "source": [
        "Python has a set of very useful built-in methods that you can use on strings. Let's see the most used.\n",
        "\n",
        "**Formatting strings: Adjusting case**\n",
        "\n",
        "`upper()` `lower()` `capitalize()` `title()` `swapcase()`\n",
        "\n"
      ]
    },
    {
      "cell_type": "code",
      "metadata": {
        "id": "56Kx-xO7EJ3A",
        "colab": {
          "base_uri": "https://localhost:8080/"
        },
        "outputId": "f4766c00-8fa1-45fb-d488-164ad3f76c7e"
      },
      "source": [
        "fox = \"tHe qUICk bROWn fOx.\"\n",
        "print(fox.upper())\n",
        "print(fox.lower())\n",
        "print(fox.capitalize())\n",
        "print(fox.title())\n",
        "print(fox.swapcase())"
      ],
      "execution_count": null,
      "outputs": [
        {
          "output_type": "stream",
          "name": "stdout",
          "text": [
            "THE QUICK BROWN FOX.\n",
            "the quick brown fox.\n",
            "The quick brown fox.\n",
            "The Quick Brown Fox.\n",
            "ThE QuicK BrowN FoX.\n"
          ]
        }
      ]
    },
    {
      "cell_type": "markdown",
      "metadata": {
        "id": "gRnS7aQ5NCM-"
      },
      "source": [
        "**Formatting strings: Adding and removing spaces**\n",
        "\n",
        "`strip()`\n"
      ]
    },
    {
      "cell_type": "code",
      "metadata": {
        "id": "TpDexRJoNS6e",
        "colab": {
          "base_uri": "https://localhost:8080/",
          "height": 35
        },
        "outputId": "440864eb-4239-44eb-bfc5-263d2650fac1"
      },
      "source": [
        "# Another common need is to remove spaces (or other characters) from the beginning or end of the string.To remove just space to the right or left, use rstrip() or lstrip() respectively\n",
        "line = '         this is the content         '\n",
        "line.strip() \n",
        "line.rstrip()\n",
        "line.lstrip()"
      ],
      "execution_count": null,
      "outputs": [
        {
          "output_type": "execute_result",
          "data": {
            "application/vnd.google.colaboratory.intrinsic+json": {
              "type": "string"
            },
            "text/plain": [
              "'this is the content         '"
            ]
          },
          "metadata": {},
          "execution_count": 7
        }
      ]
    },
    {
      "cell_type": "code",
      "metadata": {
        "id": "87ktfvqYN0El",
        "colab": {
          "base_uri": "https://localhost:8080/",
          "height": 35
        },
        "outputId": "e5cb7910-804b-41a7-dd7b-0265ea1716bc"
      },
      "source": [
        "num = \"444440004035\"\n",
        "num.strip('4')"
      ],
      "execution_count": null,
      "outputs": [
        {
          "output_type": "execute_result",
          "data": {
            "application/vnd.google.colaboratory.intrinsic+json": {
              "type": "string"
            },
            "text/plain": [
              "'0004035'"
            ]
          },
          "metadata": {},
          "execution_count": 8
        }
      ]
    },
    {
      "cell_type": "markdown",
      "metadata": {
        "id": "wJXFVSPFORwu"
      },
      "source": [
        "**Splitting and partitioning strings**\n",
        "\n",
        "`str.split()`  `str.join()`\n"
      ]
    },
    {
      "cell_type": "code",
      "metadata": {
        "id": "FWFD2SXNO8KR",
        "colab": {
          "base_uri": "https://localhost:8080/"
        },
        "outputId": "e1121632-ab03-465f-ffc1-2f0491aefbc4"
      },
      "source": [
        "# it finds all instances of the split-point and returns the substrings in between. The default is to split on any whitespace, returning a list of the individual words in a string:\n",
        "line_str = line.split()\n",
        "line_str"
      ],
      "execution_count": null,
      "outputs": [
        {
          "output_type": "execute_result",
          "data": {
            "text/plain": [
              "['this', 'is', 'the', 'content']"
            ]
          },
          "metadata": {},
          "execution_count": 9
        }
      ]
    },
    {
      "cell_type": "code",
      "metadata": {
        "id": "zF_wIMPRM2kq",
        "colab": {
          "base_uri": "https://localhost:8080/"
        },
        "outputId": "4437075b-5fc3-4972-f6ee-ecbbe3c7df2f"
      },
      "source": [
        "line_test = \"A! My name is Elena! And yours?\"\n",
        "line_test.split('A')"
      ],
      "execution_count": null,
      "outputs": [
        {
          "output_type": "execute_result",
          "data": {
            "text/plain": [
              "['', '! My name is Elena! ', 'nd yours?']"
            ]
          },
          "metadata": {},
          "execution_count": 10
        }
      ]
    },
    {
      "cell_type": "code",
      "metadata": {
        "id": "VbSB13dTPyec",
        "colab": {
          "base_uri": "https://localhost:8080/",
          "height": 35
        },
        "outputId": "5de7e676-4568-450d-a701-60a2ceed0c6f"
      },
      "source": [
        "# if you wanted to eliminate the effect of a split()\n",
        "' -. - '.join(['1','2','3'])"
      ],
      "execution_count": null,
      "outputs": [
        {
          "output_type": "execute_result",
          "data": {
            "application/vnd.google.colaboratory.intrinsic+json": {
              "type": "string"
            },
            "text/plain": [
              "'1 -. - 2 -. - 3'"
            ]
          },
          "metadata": {},
          "execution_count": 11
        }
      ]
    },
    {
      "cell_type": "markdown",
      "metadata": {
        "id": "Wr4a4ZZLev2U"
      },
      "source": [
        "**Format Strings**\n",
        "\n",
        "`str() ` `+`  `format()`\n"
      ]
    },
    {
      "cell_type": "code",
      "metadata": {
        "id": "2eq2XXzTe49B",
        "colab": {
          "base_uri": "https://localhost:8080/",
          "height": 35
        },
        "outputId": "4bb53628-0867-4943-9c68-f038db1627e6"
      },
      "source": [
        "# Another use of string methods is to manipulate string representations of values of other types. \n",
        "pi = 3.14159\n",
        "str(pi)"
      ],
      "execution_count": null,
      "outputs": [
        {
          "output_type": "execute_result",
          "data": {
            "application/vnd.google.colaboratory.intrinsic+json": {
              "type": "string"
            },
            "text/plain": [
              "'3.14159'"
            ]
          },
          "metadata": {},
          "execution_count": 12
        }
      ]
    },
    {
      "cell_type": "code",
      "metadata": {
        "id": "my70pdYRfN0s",
        "colab": {
          "base_uri": "https://localhost:8080/",
          "height": 35
        },
        "outputId": "c32cab8a-af00-4a5f-f8fc-89621c5644f2"
      },
      "source": [
        " # Concatenation\n",
        "\"The value of pi is \" + str(pi)"
      ],
      "execution_count": null,
      "outputs": [
        {
          "output_type": "execute_result",
          "data": {
            "application/vnd.google.colaboratory.intrinsic+json": {
              "type": "string"
            },
            "text/plain": [
              "'The value of pi is 3.14159'"
            ]
          },
          "metadata": {},
          "execution_count": 13
        }
      ]
    },
    {
      "cell_type": "code",
      "metadata": {
        "id": "d3oWejhqfQ-r",
        "colab": {
          "base_uri": "https://localhost:8080/",
          "height": 35
        },
        "outputId": "0de7f2ec-8ad4-4dcb-c926-110bd7285271"
      },
      "source": [
        "# A more flexible way to do concatenation of strings. Inside the {} marker you can also include information on exactly what you would like to appear there\n",
        "\"The value of pi is {}\".format(pi)\n",
        "\"First letter: {}. Last letter: {}.\".format('A', 'Z')\n",
        "\"First letter: {first}. Last letter: {last}.\".format(last='Z', first='A') # You can refer to a string with a keyword"
      ],
      "execution_count": null,
      "outputs": [
        {
          "output_type": "execute_result",
          "data": {
            "application/vnd.google.colaboratory.intrinsic+json": {
              "type": "string"
            },
            "text/plain": [
              "'First letter: A. Last letter: Z.'"
            ]
          },
          "metadata": {},
          "execution_count": 14
        }
      ]
    },
    {
      "cell_type": "markdown",
      "metadata": {
        "id": "vHEJuN9rhZx-"
      },
      "source": [
        "**Finding and replacing substrings**\n",
        "\n",
        "`find()`  `index()` \n"
      ]
    },
    {
      "cell_type": "code",
      "metadata": {
        "id": "wy9_2BDJhoRL",
        "colab": {
          "base_uri": "https://localhost:8080/"
        },
        "outputId": "ad9160cc-5f87-49c3-ce4d-d04cc8eeca8e"
      },
      "source": [
        "line = 'the quick brown fox jumped over a lazy fox'\n",
        "line.find('fox')"
      ],
      "execution_count": null,
      "outputs": [
        {
          "output_type": "execute_result",
          "data": {
            "text/plain": [
              "16"
            ]
          },
          "metadata": {},
          "execution_count": 15
        }
      ]
    },
    {
      "cell_type": "code",
      "metadata": {
        "id": "NiFZlYqThuhY",
        "colab": {
          "base_uri": "https://localhost:8080/"
        },
        "outputId": "57524e01-2f6c-4b1e-bf91-a2fe0333572c"
      },
      "source": [
        "line.index('fo')"
      ],
      "execution_count": null,
      "outputs": [
        {
          "output_type": "execute_result",
          "data": {
            "text/plain": [
              "16"
            ]
          },
          "metadata": {},
          "execution_count": 16
        }
      ]
    },
    {
      "cell_type": "markdown",
      "metadata": {
        "id": "hXq3-oqZhz6P"
      },
      "source": [
        "`find()` `index()` are very similar, the only difference is what they return if no occurrence is found"
      ]
    },
    {
      "cell_type": "code",
      "metadata": {
        "id": "z3pJ0ht7husw",
        "colab": {
          "base_uri": "https://localhost:8080/"
        },
        "outputId": "c0eb0168-d517-4d78-c37d-480556c2721d"
      },
      "source": [
        "line.find('bear')"
      ],
      "execution_count": null,
      "outputs": [
        {
          "output_type": "execute_result",
          "data": {
            "text/plain": [
              "-1"
            ]
          },
          "metadata": {},
          "execution_count": 17
        }
      ]
    },
    {
      "cell_type": "code",
      "metadata": {
        "id": "io3mc9AYjo6j"
      },
      "source": [
        "#line.index('bear')"
      ],
      "execution_count": null,
      "outputs": []
    },
    {
      "cell_type": "markdown",
      "metadata": {
        "id": "Y9XD81qJjuPH"
      },
      "source": [
        "`startswith()` `endswith()`\n"
      ]
    },
    {
      "cell_type": "code",
      "metadata": {
        "id": "3LA51D9yjzu0",
        "colab": {
          "base_uri": "https://localhost:8080/"
        },
        "outputId": "815e928a-a04d-4baf-c27a-b2503b59ffbc"
      },
      "source": [
        "line.endswith('dog')"
      ],
      "execution_count": null,
      "outputs": [
        {
          "output_type": "execute_result",
          "data": {
            "text/plain": [
              "False"
            ]
          },
          "metadata": {},
          "execution_count": 19
        }
      ]
    },
    {
      "cell_type": "code",
      "metadata": {
        "id": "djsyApQ7j2CP",
        "colab": {
          "base_uri": "https://localhost:8080/"
        },
        "outputId": "f1219feb-a4f9-4325-ba25-d328d4378854"
      },
      "source": [
        "line.startswith('the')"
      ],
      "execution_count": null,
      "outputs": [
        {
          "output_type": "execute_result",
          "data": {
            "text/plain": [
              "True"
            ]
          },
          "metadata": {},
          "execution_count": 20
        }
      ]
    },
    {
      "cell_type": "markdown",
      "metadata": {
        "id": "Ug-ODGLkj70G"
      },
      "source": [
        "`replace()`\n"
      ]
    },
    {
      "cell_type": "code",
      "metadata": {
        "id": "nP9efbqHj9R1",
        "colab": {
          "base_uri": "https://localhost:8080/",
          "height": 35
        },
        "outputId": "c19822b6-0497-462e-abd4-e16dc32876bd"
      },
      "source": [
        "# Search and replace static strings\n",
        "line.replace('brown', 'red')"
      ],
      "execution_count": null,
      "outputs": [
        {
          "output_type": "execute_result",
          "data": {
            "application/vnd.google.colaboratory.intrinsic+json": {
              "type": "string"
            },
            "text/plain": [
              "'the quick red fox jumped over a lazy fox'"
            ]
          },
          "metadata": {},
          "execution_count": 21
        }
      ]
    },
    {
      "cell_type": "markdown",
      "metadata": {
        "id": "TJRLKQLv6am1"
      },
      "source": [
        "And, what if we wanted to find all occurrences of a substring inside a string? \n",
        "\n",
        "There is no simple built-in string function that does what you're looking for, but you could use the more powerful **regular expressions** library."
      ]
    },
    {
      "cell_type": "code",
      "metadata": {
        "id": "tPgQW9Iv9QT1"
      },
      "source": [
        "import re"
      ],
      "execution_count": null,
      "outputs": []
    },
    {
      "cell_type": "markdown",
      "metadata": {
        "id": "LWcluRcykdA3"
      },
      "source": [
        "**Regular expression**\n",
        "\n",
        "Python has a built-in package called **re**, which can be used to work with Regular Expressions.\n",
        "\n",
        "The re module offers a set of functions that allows us to search a string for a match:\n",
        "\n",
        "* *Function*\t|  Description\n",
        "* *findall*\t|  Returns a list containing all matches\n",
        "* *search*\t|  Returns a Match object if there is a match anywhere in the string\n",
        "* *split*\t|  Returns a list where the string has been split at each match\n",
        "* *sub*\t|  Replaces one or many matches with a string\n",
        "\n",
        "\n",
        "What is a Regular Expression?\n",
        "\n",
        "A regular expression is a special text string for describing a search pattern. You are probably familiar with wildcard notations such as `*.txt` to find all text files in a file manager. The regex equivalent is `.*\\.txt`.\n",
        "\n",
        "\n",
        "Let's see togheter the basic rules to learn writing a regular expression.\n",
        "\n",
        "> `abc` Letters\n",
        "\n",
        ">  `123` digits\n",
        "\n",
        "> `\\d`\tAny Digit\n",
        "\n",
        "> `\\D`\tAny Non-digit character\n",
        "\n",
        "> `.` It is the wildcard, it can match any single character (letter, digit, whitespace, everything).  In order to specifically match a period, you need to escape the dot by using a slash \\\\. accordingly\n",
        "\n",
        "> `[abc]`\tOnly a, b, or c\n",
        "\n",
        "> `[^abc]`\tNot a, b, nor c\n",
        "\n",
        "> `[a-z]`\tCharacters a to z (also `[a-zA-Z]`)\n",
        "\n",
        "> `[0-9]`\tNumbers 0 to 9\n",
        "\n",
        "> `\\w`\tAny Alphanumeric character, it's equivalent to `[a-zA-Z0-9_]`\n",
        "\n",
        "> `\\W`\tAny Non-alphanumeric character\n",
        "\n",
        ">  `{m}`\tm Repetitions\n",
        "\n",
        ">  `*`\tZero or more repetitions\n",
        "\n",
        "> `+`\tOne or more repetitions\n",
        "\n",
        "> `?`\tOptional character\n",
        "\n",
        "> `\\s`\tAny Whitespace\n",
        "\n",
        "> `\\S`\tAny Non-whitespace character\n",
        "\n",
        "> `^…$`\tStarts and ends\n",
        "\n",
        "> `(…)`\tCapture Group. Regular expressions allow us to not just match text but also to *extract information for further processing*. This is done by defining **groups of characters** and capturing them using the special parentheses **(** and **)** metacharacters. Any subpattern inside a pair of parentheses will be captured as a group.\n",
        "\n",
        "> `(a(bc))`\tCapture Sub-group\n",
        "\n",
        "> `(.*)`\tCapture all\n",
        "\n",
        "> `(abc|def)`\tMatches abc or def\n",
        "\n",
        "Now, go to this link [https://regex101.com/](https://regex101.com/) and solve some regex exercises. \n",
        "\n",
        "\n",
        "Very popular examples of regular expressions, or regex, are:\n",
        "\n",
        "\n",
        "\n",
        "> `\\w+@\\w+\\.[a-z]{3}`\n",
        "\n",
        "> `[A-Z]{6}\\d{2}[A-Z]\\d{2}[A-Z]\\d{3}[A-Z]` \n",
        "\n",
        "\n",
        "\n",
        " \n",
        "----------------------\n",
        "\n",
        "\n"
      ]
    },
    {
      "cell_type": "code",
      "metadata": {
        "id": "n4PXAy8Bsoca",
        "colab": {
          "base_uri": "https://localhost:8080/"
        },
        "outputId": "4919adf8-a51c-420f-dcca-befb8d943ba7"
      },
      "source": [
        "line = 'the  ++ quick brown fox  +++ jumped over + a lazy fox'\n",
        "print(line)\n",
        "print(line.split())\n",
        "print(line.split('\\++'))\n",
        "print(re.split('\\++',line))"
      ],
      "execution_count": null,
      "outputs": [
        {
          "output_type": "stream",
          "name": "stdout",
          "text": [
            "the  ++ quick brown fox  +++ jumped over + a lazy fox\n",
            "['the', '++', 'quick', 'brown', 'fox', '+++', 'jumped', 'over', '+', 'a', 'lazy', 'fox']\n",
            "['the  ++ quick brown fox  +++ jumped over + a lazy fox']\n",
            "['the  ', ' quick brown fox  ', ' jumped over ', ' a lazy fox']\n"
          ]
        }
      ]
    },
    {
      "cell_type": "markdown",
      "metadata": {
        "id": "_ZaxqDSQyjeK"
      },
      "source": [
        "`compile()` compiles a regular expression pattern into a regular expression object, which can be used for matching using its `match()` and `search()` methods. The sequence \n",
        "\n",
        "\n",
        "> `prog = re.compile(pattern)`\n",
        "\n",
        "> `result = prog.match(string)`\n",
        "\n",
        "is equivalent to \n",
        "\n",
        ">  `result = re.match(pattern, string)`\n",
        "\n",
        "but using `re.compile()` and saving the resulting regular expression object for reuse is more efficient.\n",
        "\n",
        "\n",
        "`match()` tells you whether the beginning of a string matches the pattern, but only at the beginning of the string. While `re.search()` checks for a match anywhere in the string. Both of them look for the *first location* where the regular expression produces a match. (in poche parole search è un match che agisce su tutta la stringa)\n"
      ]
    },
    {
      "cell_type": "code",
      "metadata": {
        "id": "XEJjkcr21q2p",
        "colab": {
          "base_uri": "https://localhost:8080/"
        },
        "outputId": "d6cb434c-868f-467e-d0ba-763a3f8841a7"
      },
      "source": [
        "regex = re.compile('\\s+')\n",
        "for s in [\"abc\", \"ab c\", \" abc\", ]:\n",
        "    if regex.match(s):\n",
        "       print(s, \"match() matches\")\n",
        "    else:\n",
        "       print(s, \"match() does not match\")\n",
        "    if regex.search(s):\n",
        "       print(s, \"search() matches\")\n",
        "    else:\n",
        "       print(s, \"search() does not match\")"
      ],
      "execution_count": null,
      "outputs": [
        {
          "output_type": "stream",
          "name": "stdout",
          "text": [
            "abc match() does not match\n",
            "abc search() does not match\n",
            "ab c match() does not match\n",
            "ab c search() matches\n",
            " abc match() matches\n",
            " abc search() matches\n"
          ]
        }
      ]
    },
    {
      "cell_type": "markdown",
      "metadata": {
        "id": "5dNIFQrSrTqp"
      },
      "source": [
        "When a pattern is matched, a Match Object is created. Match objects always have a boolean value of `True`, in fact you can test whether there was a match with a simple `if` statement. \n",
        "\n",
        "Match objects support many methods and attributes, the main ones being the following:  \n",
        "\n",
        "- `group([group1,...])`\n",
        "- `groups([default])`\n",
        "- `start([group])`\n",
        "- `end([group])`\n"
      ]
    },
    {
      "cell_type": "code",
      "metadata": {
        "id": "nAMChydStm9h",
        "colab": {
          "base_uri": "https://localhost:8080/",
          "height": 35
        },
        "outputId": "fbc46c4c-ee30-469d-9122-f59cbb68ff6a"
      },
      "source": [
        "# returns one or more subgroups of the match. if there is a single argument, the result is a single string if there are multiple arguments, the result is a tuple with one item per argument\n",
        "# Without arguments, group1 defaults to zero (the whole match is returned)\n",
        "m = re.search(\"(\\w+) (\\w+)\", \"Isaac Newton, physicist\")\n",
        "m.group(0) \n",
        "m.group(1)\n",
        "m.group(2)\n",
        "#m.group(3)"
      ],
      "execution_count": null,
      "outputs": [
        {
          "output_type": "execute_result",
          "data": {
            "application/vnd.google.colaboratory.intrinsic+json": {
              "type": "string"
            },
            "text/plain": [
              "'Newton'"
            ]
          },
          "metadata": {},
          "execution_count": 25
        }
      ]
    },
    {
      "cell_type": "code",
      "metadata": {
        "id": "zbf5DhUHe17A",
        "colab": {
          "base_uri": "https://localhost:8080/"
        },
        "outputId": "d8aad72a-b9b7-4f52-bd1b-f40f46e3835b"
      },
      "source": [
        "m.groups() # groups() returns a tuple containing all the subgroups of the match"
      ],
      "execution_count": null,
      "outputs": [
        {
          "output_type": "execute_result",
          "data": {
            "text/plain": [
              "('Isaac', 'Newton')"
            ]
          },
          "metadata": {},
          "execution_count": 26
        }
      ]
    },
    {
      "cell_type": "code",
      "metadata": {
        "id": "6Njrp8bDf6tS",
        "colab": {
          "base_uri": "https://localhost:8080/",
          "height": 35
        },
        "outputId": "01360e5b-bc31-4017-d2e1-6cf7b12cdc91"
      },
      "source": [
        "m.string[m.start():m.end()]\n",
        "#m.start(0) # take as input the group, default is 0\n",
        "#m.end(0)"
      ],
      "execution_count": null,
      "outputs": [
        {
          "output_type": "execute_result",
          "data": {
            "application/vnd.google.colaboratory.intrinsic+json": {
              "type": "string"
            },
            "text/plain": [
              "'Isaac Newton'"
            ]
          },
          "metadata": {},
          "execution_count": 27
        }
      ]
    },
    {
      "cell_type": "code",
      "metadata": {
        "id": "G96qrmHRhATd",
        "colab": {
          "base_uri": "https://localhost:8080/",
          "height": 35
        },
        "outputId": "78b7b335-6db0-4c2a-f253-17a8e192dc85"
      },
      "source": [
        "email = \"tony@tiremove_thisger.net\" #anonymize\n",
        "m = re.search(\"remove_this\", email)\n",
        "email[:m.start()] + email[m.end():]"
      ],
      "execution_count": null,
      "outputs": [
        {
          "output_type": "execute_result",
          "data": {
            "application/vnd.google.colaboratory.intrinsic+json": {
              "type": "string"
            },
            "text/plain": [
              "'tony@tiger.net'"
            ]
          },
          "metadata": {},
          "execution_count": 28
        }
      ]
    },
    {
      "cell_type": "markdown",
      "metadata": {
        "id": "yzyalMH-i6g8"
      },
      "source": [
        "`re.findall()` The string is scanned from left to right, all matches return in order in a string list\n",
        "\n",
        "\n",
        "`re.finditer()` Return an iterator yielding MatchObject instances over all non-overlapping matches for the RE pattern in string"
      ]
    },
    {
      "cell_type": "code",
      "metadata": {
        "id": "6igwhv06jIc0",
        "colab": {
          "base_uri": "https://localhost:8080/"
        },
        "outputId": "11c37acf-0894-4b26-cd85-bd5e86db139f"
      },
      "source": [
        "array = re.findall(\"(\\w+) (\\w+)\", \"Isaac Newton and I, physicist\")\n",
        "for i in array:\n",
        "  print(i[0]+\" \"+i[1])"
      ],
      "execution_count": null,
      "outputs": [
        {
          "output_type": "stream",
          "name": "stdout",
          "text": [
            "Isaac Newton\n",
            "and I\n"
          ]
        }
      ]
    },
    {
      "cell_type": "code",
      "metadata": {
        "id": "pAp1o8V_kB01",
        "colab": {
          "base_uri": "https://localhost:8080/"
        },
        "outputId": "90a3d392-c616-43fa-c5b6-5986b78d8915"
      },
      "source": [
        "iterator = re.finditer(\"(\\w+) (\\w+)\", \"Isaac Newton and I, physicist\") #iterator of Matched Objects\n",
        "for i in iterator:\n",
        "  print(i.group())\n"
      ],
      "execution_count": null,
      "outputs": [
        {
          "output_type": "stream",
          "name": "stdout",
          "text": [
            "Isaac Newton\n",
            "and I\n"
          ]
        }
      ]
    },
    {
      "cell_type": "markdown",
      "metadata": {
        "id": "6Bq1NI2VzfSt"
      },
      "source": [
        "Another powerfull tool is the method `re.sub` that operates much like `str.replace()`\n",
        "\n",
        "\n",
        "\n",
        "> `result = re.sub(pattern, repl, string, count=0, flags=0)` \n",
        "\n"
      ]
    },
    {
      "cell_type": "code",
      "metadata": {
        "id": "ozskxWBIpiuP",
        "colab": {
          "base_uri": "https://localhost:8080/",
          "height": 35
        },
        "outputId": "6f233169-5bfd-43c7-fb5c-ea632bf7d205"
      },
      "source": [
        "# Return the string obtained by replacing the leftmost non-overlapping occurrences of pattern in string by the replacement repl.If the pattern isn’t found, string is returned unchanged\n",
        "result = re.sub('abc','','There is abc before def')   # Delete pattern abc\n",
        "result = re.sub('\\s+',' ',result)           # Eliminate duplicate whitespaces\n",
        "result = re.sub('abc(def)ghi', r'\\1', 'abcdefghi') # Replace a string with a part of itself\n",
        "result = re.sub(\"(\\d+) (\\w+)\", r\"\\2 \\1\", '1 a') # Reverse the things of the match\n",
        "result"
      ],
      "execution_count": null,
      "outputs": [
        {
          "output_type": "execute_result",
          "data": {
            "application/vnd.google.colaboratory.intrinsic+json": {
              "type": "string"
            },
            "text/plain": [
              "'a 1'"
            ]
          },
          "metadata": {},
          "execution_count": 31
        }
      ]
    }
  ]
}
{
  "nbformat": 4,
  "nbformat_minor": 0,
  "metadata": {
    "colab": {
      "name": "02-Install_Hadoop.ipynb",
      "provenance": [],
      "collapsed_sections": [],
      "authorship_tag": "ABX9TyNSTErn73R67UZ2H2oclkWx",
      "include_colab_link": true
    },
    "kernelspec": {
      "name": "python3",
      "display_name": "Python 3"
    },
    "language_info": {
      "name": "python"
    }
  },
  "cells": [
    {
      "cell_type": "markdown",
      "metadata": {
        "id": "view-in-github",
        "colab_type": "text"
      },
      "source": [
        "<a href=\"https://colab.research.google.com/github/pstorniolo/Master2021/blob/main/02_Install_Hadoop.ipynb\" target=\"_parent\"><img src=\"https://colab.research.google.com/assets/colab-badge.svg\" alt=\"Open In Colab\"/></a>"
      ]
    },
    {
      "cell_type": "code",
      "metadata": {
        "id": "aa9yh9KuOr_h"
      },
      "source": [
        "# Install java\n",
        "!apt-get install openjdk-8-jdk-headless -qq > /dev/null"
      ],
      "execution_count": null,
      "outputs": []
    },
    {
      "cell_type": "code",
      "metadata": {
        "id": "fiI_X8fjO9V9"
      },
      "source": [
        "# Install spark (change the version number if needed)\n",
        "!wget -q https://archive.apache.org/dist/spark/spark-3.1.2/spark-3.1.2-bin-hadoop3.2.tgz"
      ],
      "execution_count": null,
      "outputs": []
    },
    {
      "cell_type": "code",
      "metadata": {
        "colab": {
          "base_uri": "https://localhost:8080/"
        },
        "id": "aS_q7qf7PIVo",
        "outputId": "5e89cbe6-56e8-4be7-a747-8abab7bb7fcc"
      },
      "source": [
        "# Unzip the spark file to the current folder\n",
        "!tar xf spark-3.1.2-bin-hadoop3.2.tgz"
      ],
      "execution_count": null,
      "outputs": [
        {
          "output_type": "stream",
          "name": "stdout",
          "text": [
            "tar: spark-3.1.2-bin-hadoop3.2.tgz: Cannot open: No such file or directory\n",
            "tar: Error is not recoverable: exiting now\n"
          ]
        }
      ]
    },
    {
      "cell_type": "code",
      "metadata": {
        "id": "uSNoOVJcPOXK"
      },
      "source": [
        "# Set your spark folder to your system path environment. \n",
        "import os\n",
        "os.environ[\"JAVA_HOME\"] = \"/usr/lib/jvm/java-8-openjdk-amd64\"\n",
        "os.environ[\"SPARK_HOME\"] = \"/content/spark-3.1.2-bin-hadoop3.2\"\n"
      ],
      "execution_count": null,
      "outputs": []
    },
    {
      "cell_type": "code",
      "metadata": {
        "id": "Co-Kl4asPVds"
      },
      "source": [
        "# Install findspark using pip\n",
        "!pip install -q findspark\n"
      ],
      "execution_count": null,
      "outputs": []
    },
    {
      "cell_type": "code",
      "metadata": {
        "colab": {
          "base_uri": "https://localhost:8080/"
        },
        "id": "qMkkU-sdPVfj",
        "outputId": "13463d67-69ea-4696-b9c3-da7ac1b4b9f3"
      },
      "source": [
        "# Spark for Python\n",
        "!pip install -q pyspark==3.1.2"
      ],
      "execution_count": null,
      "outputs": [
        {
          "output_type": "stream",
          "name": "stdout",
          "text": [
            "\u001b[K     |████████████████████████████████| 212.4 MB 56 kB/s \n",
            "\u001b[K     |████████████████████████████████| 198 kB 20.6 MB/s \n",
            "\u001b[?25h  Building wheel for pyspark (setup.py) ... \u001b[?25l\u001b[?25hdone\n"
          ]
        }
      ]
    },
    {
      "cell_type": "code",
      "metadata": {
        "colab": {
          "base_uri": "https://localhost:8080/"
        },
        "id": "kHDHF-3TQfTz",
        "outputId": "993c8603-01e1-4041-bd29-ab011e68f1c3"
      },
      "source": [
        "!ls -laR"
      ],
      "execution_count": null,
      "outputs": [
        {
          "output_type": "stream",
          "name": "stdout",
          "text": [
            ".:\n",
            "total 16\n",
            "drwxr-xr-x 1 root root 4096 Oct  8 13:45 .\n",
            "drwxr-xr-x 1 root root 4096 Oct 20 13:32 ..\n",
            "drwxr-xr-x 4 root root 4096 Oct  8 13:44 .config\n",
            "drwxr-xr-x 1 root root 4096 Oct  8 13:45 sample_data\n",
            "\n",
            "./.config:\n",
            "total 36\n",
            "drwxr-xr-x 4 root root 4096 Oct  8 13:44 .\n",
            "drwxr-xr-x 1 root root 4096 Oct  8 13:45 ..\n",
            "-rw-r--r-- 1 root root    7 Oct  8 13:44 active_config\n",
            "-rw-r--r-- 1 root root    0 Oct  8 13:45 config_sentinel\n",
            "drwxr-xr-x 2 root root 4096 Oct  8 13:44 configurations\n",
            "-rw------- 1 root root    5 Jan  1  2040 gce\n",
            "-rw-r--r-- 1 root root    3 Oct  8 13:44 .last_opt_in_prompt.yaml\n",
            "-rw-r--r-- 1 root root   37 Oct  8 13:44 .last_survey_prompt.yaml\n",
            "-rw-r--r-- 1 root root  134 Oct  8 13:44 .last_update_check.json\n",
            "drwxr-xr-x 3 root root 4096 Oct  8 13:44 logs\n",
            "\n",
            "./.config/configurations:\n",
            "total 12\n",
            "drwxr-xr-x 2 root root 4096 Oct  8 13:44 .\n",
            "drwxr-xr-x 4 root root 4096 Oct  8 13:44 ..\n",
            "-rw-r--r-- 1 root root   94 Oct  8 13:45 config_default\n",
            "\n",
            "./.config/logs:\n",
            "total 12\n",
            "drwxr-xr-x 3 root root 4096 Oct  8 13:44 .\n",
            "drwxr-xr-x 4 root root 4096 Oct  8 13:44 ..\n",
            "drwxr-xr-x 2 root root 4096 Oct  8 13:45 2021.10.08\n",
            "\n",
            "./.config/logs/2021.10.08:\n",
            "total 64\n",
            "drwxr-xr-x 2 root root  4096 Oct  8 13:45 .\n",
            "drwxr-xr-x 3 root root  4096 Oct  8 13:44 ..\n",
            "-rw-r--r-- 1 root root 28434 Oct  8 13:44 13.44.08.162145.log\n",
            "-rw-r--r-- 1 root root   389 Oct  8 13:44 13.44.27.879250.log\n",
            "-rw-r--r-- 1 root root 10841 Oct  8 13:45 13.44.44.548229.log\n",
            "-rw-r--r-- 1 root root   389 Oct  8 13:45 13.44.50.952139.log\n",
            "-rw-r--r-- 1 root root   625 Oct  8 13:45 13.45.08.864173.log\n",
            "-rw-r--r-- 1 root root   620 Oct  8 13:45 13.45.09.534390.log\n",
            "\n",
            "./sample_data:\n",
            "total 55516\n",
            "drwxr-xr-x 1 root root     4096 Oct  8 13:45 .\n",
            "drwxr-xr-x 1 root root     4096 Oct  8 13:45 ..\n",
            "-rwxr-xr-x 1 root root     1697 Jan  1  2000 anscombe.json\n",
            "-rw-r--r-- 1 root root   301141 Oct  8 13:45 california_housing_test.csv\n",
            "-rw-r--r-- 1 root root  1706430 Oct  8 13:45 california_housing_train.csv\n",
            "-rw-r--r-- 1 root root 18289443 Oct  8 13:45 mnist_test.csv\n",
            "-rw-r--r-- 1 root root 36523880 Oct  8 13:45 mnist_train_small.csv\n",
            "-rwxr-xr-x 1 root root      930 Jan  1  2000 README.md\n"
          ]
        }
      ]
    }
  ]
}
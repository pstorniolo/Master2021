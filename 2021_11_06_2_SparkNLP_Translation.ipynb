{
  "nbformat": 4,
  "nbformat_minor": 0,
  "metadata": {
    "colab": {
      "name": "2021-11-06-2_SparkNLP_Translation.ipynb",
      "private_outputs": true,
      "provenance": [],
      "collapsed_sections": [],
      "include_colab_link": true
    },
    "kernelspec": {
      "display_name": "Python 3",
      "language": "python",
      "name": "python3"
    },
    "language_info": {
      "codemirror_mode": {
        "name": "ipython",
        "version": 3
      },
      "file_extension": ".py",
      "mimetype": "text/x-python",
      "name": "python",
      "nbconvert_exporter": "python",
      "pygments_lexer": "ipython3",
      "version": "3.7.6"
    }
  },
  "cells": [
    {
      "cell_type": "markdown",
      "metadata": {
        "id": "view-in-github",
        "colab_type": "text"
      },
      "source": [
        "<a href=\"https://colab.research.google.com/github/pstorniolo/Master2021/blob/main/2021_11_06_2_SparkNLP_Translation.ipynb\" target=\"_parent\"><img src=\"https://colab.research.google.com/assets/colab-badge.svg\" alt=\"Open In Colab\"/></a>"
      ]
    },
    {
      "cell_type": "markdown",
      "metadata": {
        "id": "TA21Jo5d9SVq"
      },
      "source": [
        "\n",
        "\n",
        "![JohnSnowLabs](https://nlp.johnsnowlabs.com/assets/images/logo.png)\n",
        "\n",
        "https://www.johnsnowlabs.com/spark-nlp/"
      ]
    },
    {
      "cell_type": "markdown",
      "metadata": {
        "id": "CzIdjHkAW8TB"
      },
      "source": [
        "# **Translate text**"
      ]
    },
    {
      "cell_type": "markdown",
      "metadata": {
        "id": "y1sZkQkt3sXX"
      },
      "source": [
        "### Spark NLP documentation and instructions:\n",
        "https://nlp.johnsnowlabs.com/docs/en/quickstart\n",
        "\n",
        "### You can find details about Spark NLP annotators here:\n",
        "https://nlp.johnsnowlabs.com/docs/en/annotators\n",
        "\n",
        "### You can find details about Spark NLP models here:\n",
        "https://nlp.johnsnowlabs.com/models\n"
      ]
    },
    {
      "cell_type": "markdown",
      "metadata": {
        "id": "wIeCOiJNW-88"
      },
      "source": [
        "##**Colab** Setup"
      ]
    },
    {
      "cell_type": "code",
      "metadata": {
        "id": "CGJktFHdHL1n"
      },
      "source": [
        "import os\n",
        "\n",
        "# Install java\n",
        "! apt-get update -qq\n",
        "! apt-get install -y openjdk-8-jdk-headless -qq > /dev/null\n",
        "\n",
        "os.environ[\"JAVA_HOME\"] = \"/usr/lib/jvm/java-8-openjdk-amd64\"\n",
        "#os.environ[\"PATH\"] = os.environ[\"JAVA_HOME\"] + \"/bin:\" + os.environ[\"PATH\"]\n",
        "! java -version\n",
        "\n",
        "# Install pyspark\n",
        "! pip -q install --ignore-installed pyspark==3.0.3\n",
        "\n",
        "# Install Spark NLP\n",
        "! pip -q install --ignore-installed spark-nlp==3.1.0"
      ],
      "execution_count": null,
      "outputs": []
    },
    {
      "cell_type": "markdown",
      "metadata": {
        "id": "eCIT5VLxS3I1"
      },
      "source": [
        "##Start the Spark session"
      ]
    },
    {
      "cell_type": "markdown",
      "metadata": {
        "id": "khjM-z9ORFU3"
      },
      "source": [
        "Import dependencies and start Spark session."
      ]
    },
    {
      "cell_type": "code",
      "metadata": {
        "id": "sw-t1zxlHTB7"
      },
      "source": [
        "import json\n",
        "import pandas as pd\n",
        "import numpy as np\n",
        "\n",
        "from pyspark.ml import Pipeline\n",
        "from pyspark.sql import SparkSession\n",
        "import pyspark.sql.functions as F\n",
        "from sparknlp.annotator import *\n",
        "from sparknlp.base import *\n",
        "import sparknlp\n",
        "from sparknlp.pretrained import PretrainedPipeline\n",
        "\n",
        "sparknlp.start()\n",
        "spark = SparkSession.builder.getOrCreate()\n",
        "\n",
        "print(\"Spark NLP version: \", sparknlp.version())\n",
        "print(\"Apache Spark version: \", spark.version)"
      ],
      "execution_count": null,
      "outputs": []
    },
    {
      "cell_type": "markdown",
      "metadata": {
        "id": "9RgiqfX5XDqb"
      },
      "source": [
        "##Select the DL model"
      ]
    },
    {
      "cell_type": "markdown",
      "metadata": {
        "id": "2Y9GpdJhXIpD"
      },
      "source": [
        "###Translate Italian text to English"
      ]
    },
    {
      "cell_type": "code",
      "metadata": {
        "id": "vBOKkB2THdGI"
      },
      "source": [
        "text = \"La Gioconda è un dipinto ad olio del XVI secolo creato da Leonardo. Si conserva al Louvre di Parigi.\"\n"
      ],
      "execution_count": null,
      "outputs": []
    },
    {
      "cell_type": "markdown",
      "metadata": {
        "id": "XftYgju4XOw_"
      },
      "source": [
        "###Define Spark NLP pipeline"
      ]
    },
    {
      "cell_type": "code",
      "metadata": {
        "id": "lBggF5P8J1gc"
      },
      "source": [
        "documentAssembler = DocumentAssembler().setInputCol(\"text\").setOutputCol(\"document\")\n",
        "\n",
        "## More accurate Sentence Detection using Deep Learning\n",
        "sentencerDL = SentenceDetectorDLModel().pretrained(\"sentence_detector_dl\", \"xx\").setInputCols([\"document\"]).setOutputCol(\"sentences\")\n",
        "\n",
        "marian = MarianTransformer.pretrained(\"opus_mt_it_en\", \"xx\").setInputCols([\"sentences\"]).setOutputCol(\"translation\")\n",
        "\n",
        "nlp_pipeline = Pipeline(stages=[\n",
        "    documentAssembler, \n",
        "    sentencerDL, \n",
        "    marian\n",
        "])"
      ],
      "execution_count": null,
      "outputs": []
    },
    {
      "cell_type": "markdown",
      "metadata": {
        "id": "mv0abcwhXWC-"
      },
      "source": [
        "###Run the pipeline"
      ]
    },
    {
      "cell_type": "code",
      "metadata": {
        "id": "EYf_9sXDXR4t"
      },
      "source": [
        "empty_df = spark.createDataFrame([['']]).toDF('text')\n",
        "\n",
        "pipeline_model = nlp_pipeline.fit(empty_df)\n",
        "\n",
        "lmodel = LightPipeline(pipeline_model)"
      ],
      "execution_count": null,
      "outputs": []
    },
    {
      "cell_type": "markdown",
      "metadata": {
        "id": "UQY8tAP6XZJL"
      },
      "source": [
        "###Visualize results"
      ]
    },
    {
      "cell_type": "code",
      "metadata": {
        "id": "Ar32BZu7J79X"
      },
      "source": [
        "res = lmodel.fullAnnotate(text)\n",
        "\n",
        "print ('Original:', text, '\\n\\n')\n",
        "\n",
        "print ('Translated:\\n')\n",
        "for sentence in res[0]['translation']:\n",
        "  print (sentence.result)"
      ],
      "execution_count": null,
      "outputs": []
    },
    {
      "cell_type": "markdown",
      "metadata": {
        "id": "edn5qR5EKEOL"
      },
      "source": [
        "###Translate English text to Italian"
      ]
    },
    {
      "cell_type": "code",
      "metadata": {
        "id": "RUNzdvEqKKv2"
      },
      "source": [
        "marian = MarianTransformer.pretrained(\"opus_mt_en_it\", \"xx\").setInputCols([\"sentences\"]).setOutputCol(\"translation\")\n",
        "\n",
        "nlp_pipeline = Pipeline(stages=[\n",
        "    documentAssembler, \n",
        "    sentencerDL, marian\n",
        "])"
      ],
      "execution_count": null,
      "outputs": []
    },
    {
      "cell_type": "code",
      "metadata": {
        "id": "3wmGBJaBKbT3"
      },
      "source": [
        "text = \"Marian is an efficient, free Neural Machine Translation software\""
      ],
      "execution_count": null,
      "outputs": []
    },
    {
      "cell_type": "code",
      "metadata": {
        "id": "77mqjNR6KVf9"
      },
      "source": [
        "empty_df = spark.createDataFrame([['']]).toDF('text')\n",
        "\n",
        "pipeline_model = nlp_pipeline.fit(empty_df)\n",
        "\n",
        "lmodel = LightPipeline(pipeline_model)"
      ],
      "execution_count": null,
      "outputs": []
    },
    {
      "cell_type": "code",
      "metadata": {
        "id": "kG88K2CgKmeD"
      },
      "source": [
        "res = lmodel.fullAnnotate(text)\n",
        "\n",
        "print ('Original:', text, '\\n\\n')\n",
        "\n",
        "print ('Translated:\\n')\n",
        "for sentence in res[0]['translation']:\n",
        "  print (sentence.result)"
      ],
      "execution_count": null,
      "outputs": []
    },
    {
      "cell_type": "markdown",
      "metadata": {
        "id": "ajt1q0_VNq7R"
      },
      "source": [
        "##Other Translation Pipelines"
      ]
    },
    {
      "cell_type": "code",
      "metadata": {
        "id": "v56l8Pb1O0Sg"
      },
      "source": [
        "text = \"L’Istituto di Calcolo e Reti ad Alte Prestazioni è un Istituto del Consiglio Nazionale delle Ricerche\""
      ],
      "execution_count": null,
      "outputs": []
    },
    {
      "cell_type": "code",
      "metadata": {
        "id": "GfhflX3cNwU4"
      },
      "source": [
        "# Italian to German\n",
        "it_de = PretrainedPipeline(\"translate_it_de\", lang=\"xx\")"
      ],
      "execution_count": null,
      "outputs": []
    },
    {
      "cell_type": "code",
      "metadata": {
        "id": "589XLAjOVDCY"
      },
      "source": [
        "res = it_de.annotate(text)"
      ],
      "execution_count": null,
      "outputs": []
    },
    {
      "cell_type": "code",
      "metadata": {
        "id": "8gAEWUqWGjE0"
      },
      "source": [
        "print(res['sentence'])\n",
        "print(res['translation'])"
      ],
      "execution_count": null,
      "outputs": []
    },
    {
      "cell_type": "code",
      "metadata": {
        "id": "IjwC5Q3Y9zFf"
      },
      "source": [
        "# Italian to Spanish\n",
        "it_es = PretrainedPipeline(\"translate_it_es\", lang=\"xx\")"
      ],
      "execution_count": null,
      "outputs": []
    },
    {
      "cell_type": "code",
      "metadata": {
        "id": "_EM18Nl2PJr4"
      },
      "source": [
        "res = it_es.annotate(text)"
      ],
      "execution_count": null,
      "outputs": []
    },
    {
      "cell_type": "code",
      "metadata": {
        "id": "ZUP1NQBSHLhS"
      },
      "source": [
        "print(res['sentence'])\n",
        "print(res['translation'])"
      ],
      "execution_count": null,
      "outputs": []
    },
    {
      "cell_type": "code",
      "metadata": {
        "id": "g2KmEV-ZSnly"
      },
      "source": [
        "#spark.stop()"
      ],
      "execution_count": null,
      "outputs": []
    }
  ]
}
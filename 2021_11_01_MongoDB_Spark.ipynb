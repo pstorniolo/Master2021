{
  "nbformat": 4,
  "nbformat_minor": 0,
  "metadata": {
    "colab": {
      "name": "2021-11-01-MongoDB_Spark.ipynb",
      "provenance": [],
      "collapsed_sections": [],
      "authorship_tag": "ABX9TyNmFc2jmUAVhXqbQcU+jKYI",
      "include_colab_link": true
    },
    "kernelspec": {
      "name": "python3",
      "display_name": "Python 3"
    }
  },
  "cells": [
    {
      "cell_type": "markdown",
      "metadata": {
        "id": "view-in-github",
        "colab_type": "text"
      },
      "source": [
        "<a href=\"https://colab.research.google.com/github/pstorniolo/Master2021/blob/main/2021_11_01_MongoDB_Spark.ipynb\" target=\"_parent\"><img src=\"https://colab.research.google.com/assets/colab-badge.svg\" alt=\"Open In Colab\"/></a>"
      ]
    },
    {
      "cell_type": "code",
      "metadata": {
        "id": "3zlGnx1Qaclc"
      },
      "source": [
        "!curl ipecho.net/plain"
      ],
      "execution_count": null,
      "outputs": []
    },
    {
      "cell_type": "code",
      "metadata": {
        "id": "GHq0fu7_YMeY"
      },
      "source": [
        "# Install Spark 3.2.0 - JDK11\n",
        "!apt-get install openjdk-11-jdk-headless -qq > /dev/null\n",
        "!wget -q https://archive.apache.org/dist/spark/spark-3.2.0/spark-3.2.0-bin-hadoop3.2.tgz\n",
        "!tar xf spark-3.2.0-bin-hadoop3.2.tgz\n",
        "!rm -f *.tgz\n",
        "\n",
        "import os\n",
        "os.environ[\"JAVA_HOME\"]  = \"/usr/lib/jvm/java-11-openjdk-amd64\"\n",
        "os.environ[\"SPARK_HOME\"] = \"/content/spark-3.2.0-bin-hadoop3.2\"\n",
        "\n",
        "!pip -q install findspark\n",
        "!pip install -q dnspython\n",
        "\n",
        "import findspark\n",
        "findspark.init()\n",
        "\n",
        "import pyspark\n",
        "from pyspark.sql import SparkSession\n",
        "from pymongo import MongoClient"
      ],
      "execution_count": null,
      "outputs": []
    },
    {
      "cell_type": "code",
      "metadata": {
        "id": "6A4JEEB9Z3lz"
      },
      "source": [
        "mongoURL = \"\"\n",
        "mongoParam = \"?authSource=admin&replicaSet=atlas-1wdpuy-shard-0&readPreference=primary\"\n",
        "mongoDB = \"hadoop\"\n",
        "\n",
        "URI = mongoURL + mongoDB + mongoParam\n",
        "print(URI)\n",
        "\n",
        "spark = SparkSession.builder \\\n",
        "    .master(\"local\") \\\n",
        "    .appName(\"Spark_MongoDB\") \\\n",
        "    .config(\"spark.mongodb.input.uri\", URI) \\\n",
        "    .config(\"spark.mongodb.output.uri\", URI) \\\n",
        "    .config(\"spark.jars.packages\", \"org.mongodb.spark:mongo-spark-connector_2.12:3.0.1\") \\\n",
        "    .getOrCreate()\n",
        "\n",
        "sc = spark.sparkContext\n",
        "sql = spark.sql\n",
        "\n",
        "print(spark.version)"
      ],
      "execution_count": null,
      "outputs": []
    },
    {
      "cell_type": "markdown",
      "metadata": {
        "id": "JKsz-xAvXTLn"
      },
      "source": [
        "#Accesso al cluster MongoDB"
      ]
    },
    {
      "cell_type": "code",
      "metadata": {
        "id": "mpLBIvPPm4NE"
      },
      "source": [
        "people = spark.createDataFrame([(\"Bilbo Baggins\",  50), (\"Gandalf\", 1000), (\"Thorin\", 195), (\"Balin\", 178), (\"Kili\", 77),\n",
        "   (\"Dwalin\", 169), (\"Oin\", 167), (\"Gloin\", 158), (\"Fili\", 82), (\"Bombur\", None)], [\"name\", \"age\"])"
      ],
      "execution_count": null,
      "outputs": []
    },
    {
      "cell_type": "code",
      "metadata": {
        "id": "6kkDgL4rTm2a"
      },
      "source": [
        "people.show()"
      ],
      "execution_count": null,
      "outputs": []
    },
    {
      "cell_type": "markdown",
      "metadata": {
        "id": "1c3e09oikuy7"
      },
      "source": [
        "##Write to MongoDB"
      ]
    },
    {
      "cell_type": "code",
      "metadata": {
        "id": "se_pi_k7Tqcf"
      },
      "source": [
        "people.write.format(\"com.mongodb.spark.sql.DefaultSource\").option(\"collection\",\"people\").mode(\"overwrite\").save()"
      ],
      "execution_count": null,
      "outputs": []
    },
    {
      "cell_type": "code",
      "metadata": {
        "id": "lpITbAp8DkJ7"
      },
      "source": [
        "people.write.format(\"mongo\").option(\"collection\",\"people\").mode(\"append\").save()"
      ],
      "execution_count": null,
      "outputs": []
    },
    {
      "cell_type": "markdown",
      "metadata": {
        "id": "uKsgrKnukzgX"
      },
      "source": [
        "##Read from MongoDB"
      ]
    },
    {
      "cell_type": "code",
      "metadata": {
        "id": "Rv3nhAu3jqPk"
      },
      "source": [
        "df = spark.read.format(\"mongo\").option(\"collection\",\"people\").load()\n",
        "df.printSchema()\n",
        "df.show(truncate=False)"
      ],
      "execution_count": null,
      "outputs": []
    },
    {
      "cell_type": "code",
      "metadata": {
        "id": "CSbsluqEnCbT"
      },
      "source": [
        "df = spark.read.format(\"mongo\").option(\"collection\",\"people\").load().drop(\"_id\")\n",
        "df.printSchema()\n",
        "df.select(df.name,df.age).show()"
      ],
      "execution_count": null,
      "outputs": []
    },
    {
      "cell_type": "code",
      "metadata": {
        "id": "Niz31pxAFFlS"
      },
      "source": [
        "people = df.select(df.name,df.age)\n",
        "people.show()"
      ],
      "execution_count": null,
      "outputs": []
    },
    {
      "cell_type": "markdown",
      "metadata": {
        "id": "gE7VG_1loIBA"
      },
      "source": [
        "---\n",
        "\n",
        "##New Collection"
      ]
    },
    {
      "cell_type": "code",
      "metadata": {
        "id": "9a8esAT3oJf6"
      },
      "source": [
        "data = [{ \"_id\" : 1, \"type\" : \"apple\", \"qty\" : 5 },\n",
        "        { \"_id\" : 2, \"type\" : \"orange\", \"qty\" : 10 },\n",
        "        { \"_id\" : 3, \"type\" : \"banana\", \"qty\" : 15 }]\n",
        "fruit = spark.createDataFrame(data)\n",
        "fruit.printSchema()\n",
        "fruit.show()"
      ],
      "execution_count": null,
      "outputs": []
    },
    {
      "cell_type": "code",
      "metadata": {
        "id": "7_31vtV-opp9"
      },
      "source": [
        "fruit.write.format(\"mongo\").option(\"collection\",\"fruit\").mode(\"overwrite\").save()\n"
      ],
      "execution_count": null,
      "outputs": []
    },
    {
      "cell_type": "code",
      "metadata": {
        "id": "m99EaGIHzK7b"
      },
      "source": [
        "df = spark.read.format(\"mongo\").option(\"collection\",\"fruit\").load()\n",
        "df.printSchema()\n",
        "df.show()"
      ],
      "execution_count": null,
      "outputs": []
    },
    {
      "cell_type": "markdown",
      "metadata": {
        "id": "MtJBVSwVxIWY"
      },
      "source": [
        "##Aggregation Pipeline\n",
        "\n",
        "https://docs.mongodb.com/manual/core/aggregation-pipeline/"
      ]
    },
    {
      "cell_type": "code",
      "metadata": {
        "id": "Zr3wEhFi05yl"
      },
      "source": [
        "pipeline = \"{'$match': {'type': 'apple'}}\"\n",
        "df = spark.read.format(\"mongo\").option(\"collection\",\"fruit\").option(\"pipeline\",pipeline).load()\n",
        "df.show()"
      ],
      "execution_count": null,
      "outputs": []
    },
    {
      "cell_type": "code",
      "metadata": {
        "id": "vRu1q4uI1Br0"
      },
      "source": [
        "df = spark.read.format(\"mongo\").option(\"collection\",\"fruit\").load()\n",
        "\n",
        "df.filter(df['qty'] >= 10).show()\n",
        "\n",
        "df.show()"
      ],
      "execution_count": null,
      "outputs": []
    },
    {
      "cell_type": "code",
      "metadata": {
        "id": "8jT8AMY_1ZIS"
      },
      "source": [
        "df.createOrReplaceTempView(\"temp\")\n",
        "some_fruit = sql(\"SELECT type, qty FROM temp WHERE type LIKE '%e%'\")\n",
        "some_fruit.show()"
      ],
      "execution_count": null,
      "outputs": []
    },
    {
      "cell_type": "markdown",
      "metadata": {
        "id": "7_yGdVWg0V57"
      },
      "source": [
        "#Caricamento da Open**Data**\n",
        "https://dati.regione.sicilia.it/dataset"
      ]
    },
    {
      "cell_type": "markdown",
      "metadata": {
        "id": "iYjfbgfiexSj"
      },
      "source": [
        "##Definizione di carica_dati"
      ]
    },
    {
      "cell_type": "code",
      "metadata": {
        "id": "-D8Km_JnwmDL"
      },
      "source": [
        "import requests\n",
        "\n",
        "def carica_dati(url,collection,mode):\n",
        "   file_name = url.split('/')[-1]\n",
        "   r = requests.get(url, allow_redirects=True)\n",
        "   open(file_name,\"wb\").write(r.content)\n",
        "   #print(file_name)\n",
        "   os.system(\"unzip \"+file_name)\n",
        "   input_file = file_name.split('.')[0]+'.csv'\n",
        "   #print(input_file)\n",
        "   #Create DataFrame\n",
        "   print('Lettura di < '+input_file)\n",
        "   arpa = spark.read.csv(input_file,sep=\";\",header=True,inferSchema=True)\n",
        "   print('Salvataggio in > '+collection, '\\t-\\tModo: '+mode)\n",
        "   #Save dataframe to MongoDB\n",
        "   arpa.write.format(\"com.mongodb.spark.sql.DefaultSource\").option(\"collection\",collection).mode(mode).save()\n",
        "   os.system(\"rm -f \"+file_name)\n",
        "   os.system(\"rm -f \"+input_file)\n"
      ],
      "execution_count": null,
      "outputs": []
    },
    {
      "cell_type": "markdown",
      "metadata": {
        "id": "cpYXSONxgEyL"
      },
      "source": [
        "##Caricamento anagrafica"
      ]
    },
    {
      "cell_type": "code",
      "metadata": {
        "id": "kuy4111pimFP"
      },
      "source": [
        "url = 'https://dati.regione.sicilia.it/download/dataset/arpa-qualita-aria-anagrafica/filesystem/arpa-qualita-aria-anagrafica-stazioni_csv.zip'\n",
        "\n",
        "carica_dati(url,\"stazioni\",\"overwrite\")"
      ],
      "execution_count": null,
      "outputs": []
    },
    {
      "cell_type": "code",
      "metadata": {
        "id": "UNEw1g0OxYGt"
      },
      "source": [
        "url = 'https://dati.regione.sicilia.it/download/dataset/arpa-qualita-aria-anagrafica/filesystem/arpa-qualita-aria-anagrafica-inquinanti_csv.zip'\n",
        "\n",
        "carica_dati(url,\"inquinanti\",\"overwrite\")"
      ],
      "execution_count": null,
      "outputs": []
    },
    {
      "cell_type": "code",
      "metadata": {
        "id": "tBPqsxWFi6PR"
      },
      "source": [
        "df = spark.read.format(\"mongo\").option(\"collection\",\"stazioni\").load().drop('_id')\n",
        "df.printSchema()\n",
        "df.sort(df.stazione_id).show(40,truncate=False)"
      ],
      "execution_count": null,
      "outputs": []
    },
    {
      "cell_type": "code",
      "metadata": {
        "id": "qAEjEoVwRWXu"
      },
      "source": [
        "stazioni = df.select(df.stazione_id,df.stazione_nome).sort(df.stazione_id)\n",
        "stazioni.show(truncate=False)"
      ],
      "execution_count": null,
      "outputs": []
    },
    {
      "cell_type": "code",
      "metadata": {
        "id": "humDIepFR4nP"
      },
      "source": [
        "st = stazioni.rdd.map(lambda x: (x[0],x[1]))\n",
        "stazione = st.collectAsMap()\n",
        "id_st = list(stazione.keys())\n",
        "print(id_st)"
      ],
      "execution_count": null,
      "outputs": []
    },
    {
      "cell_type": "code",
      "metadata": {
        "id": "HR0RyWbTU0TR"
      },
      "source": [
        "df = spark.read.format(\"mongo\").option(\"collection\",\"inquinanti\").load().drop('_id')\n",
        "df.printSchema()\n",
        "df.show(truncate=False)"
      ],
      "execution_count": null,
      "outputs": []
    },
    {
      "cell_type": "markdown",
      "metadata": {
        "id": "XNdZ9XjOgN8L"
      },
      "source": [
        "##Creazione indice"
      ]
    },
    {
      "cell_type": "code",
      "metadata": {
        "id": "uSFSIy_IVyo8"
      },
      "source": [
        "inquinanti = df.select(df.inquinante_id,df.inquinante_simbolo,df.inquinante_descrizione).sort(df.inquinante_id)\n",
        "inquinanti.show(truncate=False)"
      ],
      "execution_count": null,
      "outputs": []
    },
    {
      "cell_type": "code",
      "metadata": {
        "id": "te1fB9fKX7PK"
      },
      "source": [
        "iq = inquinanti.rdd.map(lambda x: (x[0],x[1]))\n",
        "type(iq)"
      ],
      "execution_count": null,
      "outputs": []
    },
    {
      "cell_type": "code",
      "metadata": {
        "id": "iwkF-8otY17p"
      },
      "source": [
        "inquinante = iq.collectAsMap()\n",
        "id_iq = list(inquinante.keys())\n",
        "print(id_iq)"
      ],
      "execution_count": null,
      "outputs": []
    },
    {
      "cell_type": "code",
      "metadata": {
        "id": "PQpbVH_XXyDM"
      },
      "source": [
        "for i in id_iq:\n",
        "  print(i,'\\t',inquinante.get(i))"
      ],
      "execution_count": null,
      "outputs": []
    },
    {
      "cell_type": "code",
      "metadata": {
        "id": "fEdHAKweT1Qx"
      },
      "source": [
        "for i in id_st:\n",
        "  print(i,'\\t',stazione.get(i))"
      ],
      "execution_count": null,
      "outputs": []
    },
    {
      "cell_type": "code",
      "metadata": {
        "id": "ogpmmQolT1Es"
      },
      "source": [
        ""
      ],
      "execution_count": null,
      "outputs": []
    },
    {
      "cell_type": "markdown",
      "metadata": {
        "id": "uxeM5HgCgTrz"
      },
      "source": [
        "##Caricamento dati"
      ]
    },
    {
      "cell_type": "code",
      "metadata": {
        "id": "_TzXyBQP0igM"
      },
      "source": [
        "file_base = 'https://dati.regione.sicilia.it/download/dataset/arpa-qualita-aria-2019/filesystem/arpa-qualita-aria-2019-'\n",
        "\n",
        "for i in indice:\n",
        "  url = file_base+str(i)+'_csv.zip'\n",
        "  print(url)\n",
        "  #carica_dati(url,\"aria\",\"append\")\n"
      ],
      "execution_count": null,
      "outputs": []
    },
    {
      "cell_type": "markdown",
      "metadata": {
        "id": "6WbXv8FHgZ4H"
      },
      "source": [
        "##Lettura e verifica"
      ]
    },
    {
      "cell_type": "code",
      "metadata": {
        "id": "pATngVIT5Ofa"
      },
      "source": [
        "df = spark.read.format(\"mongo\").option(\"collection\",\"aria\").load().drop(\"_id\")\n",
        "df.printSchema()"
      ],
      "execution_count": null,
      "outputs": []
    },
    {
      "cell_type": "code",
      "metadata": {
        "id": "DyCD8qFLouwO"
      },
      "source": [
        "df.filter(df.inquinante_id.isin(5,6001)).show()\n",
        "df.filter(df.inquinante_id.isin(5,6001)).count()"
      ],
      "execution_count": null,
      "outputs": []
    },
    {
      "cell_type": "markdown",
      "metadata": {
        "id": "HsS-HqtFg9tk"
      },
      "source": [
        "##Cambio indice <-> etichetta"
      ]
    },
    {
      "cell_type": "code",
      "metadata": {
        "id": "0L3xPf6WdvJr"
      },
      "source": [
        "aria = df.rdd.map(lambda x: (inquinante.get(x[0]),x[1],x[2],x[3],x[4],stazione.get(x[5]))).toDF(df.columns)\n",
        "aria.printSchema()\n",
        "aria.show()"
      ],
      "execution_count": null,
      "outputs": []
    },
    {
      "cell_type": "markdown",
      "metadata": {
        "id": "4E-M-8v1eqdP"
      },
      "source": [
        "##Selezione in MongoDB (Pipeline)"
      ]
    },
    {
      "cell_type": "code",
      "metadata": {
        "id": "7JwoVA0SoC0H"
      },
      "source": [
        "pipeline = \"{'$match': {'inquinante_id': 6001}}\"\n",
        "\n",
        "df_pm2_5 = spark.read.format(\"com.mongodb.spark.sql.DefaultSource\") \\\n",
        "               .option(\"collection\",\"aria\") \\\n",
        "               .option(\"pipeline\", pipeline) \\\n",
        "               .load().drop('_id')\n",
        "df_pm2_5.printSchema()\n",
        "df_pm2_5.show()"
      ],
      "execution_count": null,
      "outputs": []
    },
    {
      "cell_type": "markdown",
      "metadata": {
        "id": "jA2UmskJhvYG"
      },
      "source": [
        "##Selezione in Spark"
      ]
    },
    {
      "cell_type": "code",
      "metadata": {
        "id": "sReBMXtmgm9c"
      },
      "source": [
        "df.filter(df['inquinante_id'] == 6001).show()"
      ],
      "execution_count": null,
      "outputs": []
    },
    {
      "cell_type": "markdown",
      "metadata": {
        "id": "Lt62PtPyxWLx"
      },
      "source": [
        "##Stop Session"
      ]
    },
    {
      "cell_type": "code",
      "metadata": {
        "id": "FvTL5-HLxyp9"
      },
      "source": [
        "spark.stop()"
      ],
      "execution_count": null,
      "outputs": []
    }
  ]
}